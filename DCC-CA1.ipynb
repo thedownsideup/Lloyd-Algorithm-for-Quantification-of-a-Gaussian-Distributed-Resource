{
 "cells": [
  {
   "cell_type": "code",
   "execution_count": 4,
   "metadata": {},
   "outputs": [],
   "source": [
    "import numpy as np\n",
    "from scipy.stats import norm\n",
    "import matplotlib.pyplot as plt\n",
    "import seaborn as sns\n",
    "\n",
    "rtol = 1e-06\n",
    "atol = 1e-09 "
   ]
  },
  {
   "cell_type": "code",
   "execution_count": 5,
   "metadata": {},
   "outputs": [],
   "source": [
    "def lloyd(sigma, b):\n",
    "    s = np.random.normal(0, sigma, 1000)\n",
    "    n, bins, _ = plt.hist(s, 1000, alpha=0.5, color='k')\n",
    "    plt.xlabel(\"source values\")\n",
    "    plt.ylabel(\"density\")\n",
    "    \n",
    "    borders = np.random.normal(0, sigma, 2**b-1)\n",
    "    centers = np.zeros(2**b)\n",
    "    \n",
    "    borders = np.sort(borders)\n",
    "    \n",
    "    while(1):\n",
    "        \n",
    "        for j in range(2**b):\n",
    "            \n",
    "            prev = np.copy(centers)\n",
    "\n",
    "            if j == 0:\n",
    "                interval = s[s < borders[j]]\n",
    "            elif j == 2**b - 1:\n",
    "                interval = s[s > borders[j-1]]\n",
    "            else:\n",
    "                interval = s[np.logical_and(s > borders[j-1], s < borders[j])]\n",
    "            \n",
    "            sums = []\n",
    "            \n",
    "            for x in interval:\n",
    "                sums.append(np.sum((interval - x)**2))\n",
    "\n",
    "            #if len(interval) != 0:\n",
    "            centers[j] = interval[np.argmin(sums)]\n",
    "           \n",
    "        if np.allclose(centers, prev, rtol, atol):\n",
    "            break;\n",
    "            \n",
    "        \n",
    "        #update borders  \n",
    "        centers1 = np.copy(centers)\n",
    "        centers2 = np.copy(centers)\n",
    "        centers1 = np.delete(centers1, 2**b-1)\n",
    "        centers2 = np.delete(centers2, 0)\n",
    "        borders = (centers1 + centers2) / 2\n",
    "\n",
    "    return borders, prev\n",
    "    \n",
    "    #sns.distplot(x);\n"
   ]
  },
  {
   "cell_type": "code",
   "execution_count": 7,
   "metadata": {},
   "outputs": [
    {
     "data": {
      "image/png": "[encoded data removed]",
      "text/plain": [
       "<Figure size 432x288 with 1 Axes>"
      ]
     },
     "metadata": {
      "needs_background": "light"
     },
     "output_type": "display_data"
    }
   ],
   "source": [
    "borders, centers = lloyd(3, 2)\n",
    "plt.vlines(borders, ymin=0, ymax=9, color='c', zorder=2, linestyles='dashed')\n",
    "\n",
    "for c in centers:\n",
    "    plt.scatter(c, 0, color=\"r\")\n",
    "    \n",
    "plt.show()\n"
   ]
  },
  {
   "cell_type": "code",
   "execution_count": null,
   "metadata": {},
   "outputs": [],
   "source": []
  },
  {
   "cell_type": "code",
   "execution_count": null,
   "metadata": {},
   "outputs": [],
   "source": []
  }
 ],
 "metadata": {
  "kernelspec": {
   "display_name": "Python 3",
   "language": "python",
   "name": "python3"
  },
  "language_info": {
   "codemirror_mode": {
    "name": "ipython",
    "version": 3
   },
   "file_extension": ".py",
   "mimetype": "text/x-python",
   "name": "python",
   "nbconvert_exporter": "python",
   "pygments_lexer": "ipython3",
   "version": "3.7.0"
  }
 },
 "nbformat": 4,
 "nbformat_minor": 2
}
